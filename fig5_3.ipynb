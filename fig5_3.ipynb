{
 "cells": [
  {
   "cell_type": "markdown",
   "id": "08004618-1124-41f3-bedf-9a8636ed08cd",
   "metadata": {},
   "source": [
    "# Don' Modify This File !!\n",
    "\n",
    "A result for dimension 20. "
   ]
  },
  {
   "cell_type": "code",
   "execution_count": 1,
   "id": "deccec61-94cc-4cb5-b131-a38dea6b7eaa",
   "metadata": {},
   "outputs": [
    {
     "data": {
      "text/plain": [
       "<torch._C.Generator at 0x155527ce0db0>"
      ]
     },
     "execution_count": 1,
     "metadata": {},
     "output_type": "execute_result"
    }
   ],
   "source": [
    "import numpy as np\n",
    "import matplotlib.pyplot as plt\n",
    "import torch\n",
    "from torch import nn, vmap\n",
    "from time import time\n",
    "\n",
    "import math, os, sys\n",
    "torch.manual_seed(0)"
   ]
  },
  {
   "cell_type": "code",
   "execution_count": 2,
   "id": "056775bb-8d33-4049-b10d-b893042a9073",
   "metadata": {},
   "outputs": [],
   "source": [
    "# dimension\n",
    "D = 20\n",
    "\n",
    "# domain width\n",
    "L = 1.0"
   ]
  },
  {
   "cell_type": "code",
   "execution_count": 3,
   "id": "e23fd970-7539-496c-b312-715ba0f4434c",
   "metadata": {},
   "outputs": [],
   "source": [
    "# rhs\n",
    "\n",
    "om = 2.\n",
    "\n",
    "c = -1.\n",
    "\n",
    "\n",
    "def f(x):\n",
    "    return (-om ** 2 + c) * (om * x).cos().sum()\n",
    "\n",
    "\n",
    "# boundary condition\n",
    "def g(x):\n",
    "    return (om * x).cos().sum()\n",
    "\n",
    "\n",
    "def u_true(x):\n",
    "    return (om * x).cos().sum()"
   ]
  },
  {
   "cell_type": "code",
   "execution_count": 4,
   "id": "511b9e65-811b-46ff-8f83-63cbe23d4968",
   "metadata": {},
   "outputs": [],
   "source": [
    "# path simulation time\n",
    "T = 6. / np.sqrt(D)\n",
    "\n",
    "# Total umber of paths\n",
    "M_tot = 100000\n",
    "\n",
    "# Batch size of each epoch\n",
    "M = 1000\n",
    "\n",
    "# number of grid points\n",
    "N = 100\n",
    "\n",
    "# number of grid points at the boundaries\n",
    "N_bdry = 10000\n",
    "\n",
    "# weight of boundary loss\n",
    "c_boundary = 1.0\n",
    "\n",
    "# number of collocation points for evaluating the integral\n",
    "N_test = 10000\n",
    "\n",
    "# number of training epochs\n",
    "n_epoch = 5000"
   ]
  },
  {
   "cell_type": "code",
   "execution_count": 5,
   "id": "d87bd8d1-ef52-44c7-b5f5-94d628d83fb0",
   "metadata": {},
   "outputs": [],
   "source": [
    "# time step size\n",
    "dt = T / N\n",
    "dBt = math.sqrt(dt)\n",
    "\n",
    "def sample_NDstdBM_paths(M: int, D: int, T: float, N: int):\n",
    "    return torch.cumsum(\n",
    "        torch.concat([\n",
    "            torch.zeros(M, 1, D),\n",
    "            torch.randn(M, N, D) * math.sqrt(T / N)\n",
    "        ], dim=1), dim=1\n",
    "    )\n",
    "\n",
    "\n",
    "W_tot = sample_NDstdBM_paths(M_tot, D, T, N)"
   ]
  },
  {
   "cell_type": "code",
   "execution_count": 6,
   "id": "0852532b-3415-4ece-b318-14527fa07cdb",
   "metadata": {},
   "outputs": [
    {
     "name": "stdout",
     "output_type": "stream",
     "text": [
      "Boundary unreached rate: 0.00%\n"
     ]
    }
   ],
   "source": [
    "def mask_NDstdBM_paths(paths, L: float):\n",
    "    oob = paths.abs().max(dim=2)[0].le(L).double()\n",
    "    return oob.cummin(dim=1).values, oob.argmin(dim=1)\n",
    "\n",
    "\n",
    "mask, exit_idx = mask_NDstdBM_paths(W_tot, L)\n",
    "print(f\"Boundary unreached rate: {mask[:, -1].sum().item() / M_tot * 100:.2f}%\")"
   ]
  },
  {
   "cell_type": "code",
   "execution_count": 7,
   "id": "f95f1f24-ac72-43ca-bdd0-715ba7107c26",
   "metadata": {},
   "outputs": [],
   "source": [
    "def sample_boundary_points(N_bdry: int, D: int, L: float):\n",
    "    rand_u = torch.rand(N_bdry, D) - 0.5\n",
    "    return rand_u / rand_u.abs().max(dim=1)[0].unsqueeze(dim=1) * L\n",
    "\n",
    "\n",
    "X_bdry = sample_boundary_points(N_bdry, D, L)"
   ]
  },
  {
   "cell_type": "code",
   "execution_count": 8,
   "id": "b61c5e48-dec5-4739-a6ac-18922e9bd8a8",
   "metadata": {},
   "outputs": [],
   "source": [
    "u = nn.Sequential(nn.Linear(D, 64),\n",
    "                  nn.Tanh(), # nn.GELU(approximate=\"tanh\"),\n",
    "                  nn.Linear(64, 32),\n",
    "                  nn.GELU(approximate=\"tanh\"),\n",
    "                  nn.Linear(32, 1))\n",
    "\n",
    "X_test = torch.rand(N_test, D) * 2 * L - L\n",
    "\n",
    "optimizer = torch.optim.Adamax(u.parameters(), lr=.05, )\n",
    "scheduler = torch.optim.lr_scheduler.ExponentialLR(optimizer, gamma=0.995)\n",
    "\n",
    "loss_rec = np.zeros(n_epoch + 1)\n",
    "l2_err_rec = np.zeros(n_epoch + 1)\n",
    "l2_norm_rec = np.zeros(n_epoch + 1)\n",
    "\n",
    "f_val_tot = vmap(vmap(f))(W_tot)\n",
    "g_val = vmap(g)(X_bdry)"
   ]
  },
  {
   "cell_type": "code",
   "execution_count": 9,
   "id": "a07fb290-d4fd-46f2-a0fe-fc5cd88f9f21",
   "metadata": {},
   "outputs": [
    {
     "data": {
      "text/plain": [
       "20.14722986054802"
      ]
     },
     "execution_count": 9,
     "metadata": {},
     "output_type": "execute_result"
    }
   ],
   "source": [
    "# get u0 by Feynman-Kac formula\n",
    "u0 = (vmap(g)(torch.stack([W_tot[i, exit_idx[i], :] for i in range(M_tot)])) * (c * exit_idx * dt / 2).exp() - .5 * \\\n",
    "     (f_val_tot * (torch.linspace(0, T, N+1) * c / 2).exp() * mask).sum(dim=1).mul(dt)).mean()\n",
    "u0.item()"
   ]
  },
  {
   "cell_type": "code",
   "execution_count": 10,
   "id": "d0de89c2-a662-4705-bb02-1d9e493b5db4",
   "metadata": {},
   "outputs": [],
   "source": [
    "# start_time = time()\n",
    "# for i in range(n_epoch):\n",
    "#     batch_idx = torch.randint(0, M_tot, (M,))\n",
    "#     W = W_tot[batch_idx]\n",
    "#     f_val = f_val_tot[batch_idx]\n",
    "#     u_val = vmap(u)(W).squeeze()\n",
    "#     u_val_bdry = u(X_bdry).squeeze()\n",
    "#     loss_mart = ((u_val[:, 1:] - u_val[:, :-1] - (f_val - c * u_val)[:, :-1] / 2. * dt)\n",
    "#                  * mask[batch_idx, :-1]).sum(axis=0).pow(2).sum() / T / M ** 2\n",
    "#     # X_bdry = sample_boundary_points(N_bdry, D, L)\n",
    "#     loss_bdry = (u(X_bdry).squeeze() - g_val).pow(2).sum() / N_bdry\n",
    "#     # loss_0 = (u(torch.zeros(D)) - D) ** 2\n",
    "#     loss_0 = (u(torch.zeros(D)) - u0) ** 2\n",
    "#     loss = loss_mart + 5000. * loss_bdry # + 10. * loss_0\n",
    "#     loss.backward()\n",
    "#     optimizer.step()\n",
    "#     optimizer.zero_grad()\n",
    "\n",
    "#     u_test_val = u(X_test).squeeze()\n",
    "#     u_true_val = vmap(u_true)(X_test).squeeze()\n",
    "#     L2_loss = torch.sqrt((u_test_val - u_true_val).pow(2).sum() / N_test)\n",
    "#     L2_norm = torch.sqrt(u_test_val.pow(2).sum() / N_test)\n",
    "\n",
    "#     loss_rec[i] = loss.item()\n",
    "#     l2_err_rec[i] = L2_loss.item()\n",
    "#     l2_norm_rec[i] = L2_norm.item()\n",
    "\n",
    "#     if i % 100 == 0 or i == n_epoch - 1:\n",
    "#         print(f\"round {i}, loss={loss.item()}, L2 error={L2_loss.item()}, L2 norm={L2_norm.item()}\")\n",
    "        \n",
    "#     if i % 200 == 0:\n",
    "#         scheduler.step()\n",
    "\n",
    "# end_time = time()\n",
    "\n",
    "# print(f\"Training finished in {end_time - start_time} seconds.\")\n",
    "# print(\"Now saving the results ... \", end=\"\")\n",
    "# torch.save(u.state_dict(), os.path.join(\".\", \"the_network.pt\"))\n",
    "# np.savez(\"loss_and_err.npz\", loss_rec=loss_rec, l2_err_rec=l2_err_rec)\n",
    "# print(\"done.\")\n",
    "# print(\"Congratulations! Everything is done.\")"
   ]
  },
  {
   "cell_type": "code",
   "execution_count": 11,
   "id": "66c8b7c3-cdc8-4b29-8924-3f48ea998d33",
   "metadata": {},
   "outputs": [
    {
     "data": {
      "text/plain": [
       "'\\nx_test = torch.linspace(-L, L, 100).unsqueeze(dim=1) * torch.ones(D)\\nu_test = u(x_test)\\nu_test_true = vmap(u_true)(x_test)\\nplt.plot(np.linspace(-L, L, 100).unsqueeze(dim=1) * , u_test.detach().numpy().flatten())\\nplt.plot(np.linspace(-L, L, 100), u_test_true.detach().numpy().flatten())\\nplt.show()\\n'"
      ]
     },
     "execution_count": 11,
     "metadata": {},
     "output_type": "execute_result"
    }
   ],
   "source": [
    "\"\"\"\n",
    "x_test = torch.linspace(-L, L, 100).unsqueeze(dim=1) * torch.ones(D)\n",
    "u_test = u(x_test)\n",
    "u_test_true = vmap(u_true)(x_test)\n",
    "plt.plot(np.linspace(-L, L, 100).unsqueeze(dim=1) * , u_test.detach().numpy().flatten())\n",
    "plt.plot(np.linspace(-L, L, 100), u_test_true.detach().numpy().flatten())\n",
    "plt.show()\n",
    "\"\"\""
   ]
  },
  {
   "cell_type": "code",
   "execution_count": 28,
   "id": "6f1e3697-9557-46d5-beb6-41c31e417d3a",
   "metadata": {},
   "outputs": [
    {
     "data": {
      "image/png": "[encoded data removed]",
      "text/plain": [
       "<Figure size 432x288 with 1 Axes>"
      ]
     },
     "metadata": {
      "needs_background": "light"
     },
     "output_type": "display_data"
    }
   ],
   "source": [
    "u.load_state_dict(torch.load(\"the_network.pt\"))\n",
    "\n",
    "plt.plot(np.linspace(-np.sqrt(D) * L, np.sqrt(D) * L, 200), vmap(u_true)(x_test).detach().numpy(), \"b-\", alpha=0.7)\n",
    "\n",
    "x_test = torch.linspace(-L, L, 200).unsqueeze(dim=1) * torch.ones(D)\n",
    "plt.plot(np.linspace(-np.sqrt(D) * L, np.sqrt(D) * L, 200)[::4], u(x_test).squeeze().detach().numpy()[::4], \"rx\")\n",
    "\n",
    "u.load_state_dict(torch.load(\"the_network20_0fk.pt\"))\n",
    "plt.plot(np.linspace(-np.sqrt(D) * L, np.sqrt(D) * L, 200)[::4], u(x_test).squeeze().detach().numpy()[::4], \"g+\")\n",
    "\n",
    "\n",
    "plt.ylim(-9, 22)\n",
    "plt.legend([\"True Solution\", \"Learned Solution\", \"Learned Solution (without FK loss)\", ])\n",
    "plt.savefig(\"20d_diag_FK_0FK.png\")\n",
    "plt.show()"
   ]
  },
  {
   "cell_type": "markdown",
   "id": "f963d732-aa76-47b1-a4f1-ba00fa6bd122",
   "metadata": {},
   "source": [
    "$$\n",
    "u(x \\mathbf{e}), x \\in [-L, L]\n",
    "$$\n",
    "where\n",
    "$$\n",
    "\\mathbf{e} = \\frac{1}{\\sqrt{D}} (1, 1, \\cdots, 1)\n",
    "$$"
   ]
  },
  {
   "cell_type": "code",
   "execution_count": 32,
   "id": "b4884122-d15d-4259-aa62-1189e803342b",
   "metadata": {},
   "outputs": [
    {
     "data": {
      "image/png": "[encoded data removed]",
      "text/plain": [
       "<Figure size 432x288 with 1 Axes>"
      ]
     },
     "metadata": {
      "needs_background": "light"
     },
     "output_type": "display_data"
    }
   ],
   "source": [
    "u.load_state_dict(torch.load(\"the_network.pt\"))\n",
    "\n",
    "x_test = torch.linspace(-1, 1, 100).unsqueeze(dim=1) * (torch.tensor([0.] * (D-1) + [1.]))\n",
    "plt.plot(np.linspace(-L, L, 100), vmap(u_true)(x_test).detach().numpy(), \"b\")\n",
    "plt.plot(np.linspace(-L, L, 100)[::4], u(x_test).squeeze().detach().numpy()[::4], \"rx\")\n",
    "\n",
    "u.load_state_dict(torch.load(\"the_network20_0fk.pt\"))\n",
    "plt.plot(np.linspace(-L, L, 100)[::4], u(x_test).squeeze().detach().numpy()[::4], \"g+\")\n",
    "\n",
    "plt.ylim(-9, 22)\n",
    "\n",
    "\n",
    "plt.legend([\"True Solution\", \"Learned Solution\", \"Learned Solution (without FK loss)\", ])\n",
    "plt.savefig(\"20d_axis_fk_0fk.png\")\n",
    "plt.show()"
   ]
  },
  {
   "cell_type": "code",
   "execution_count": null,
   "id": "5c25a680-d8a1-4239-b701-f2fd35916742",
   "metadata": {},
   "outputs": [],
   "source": []
  },
  {
   "cell_type": "code",
   "execution_count": null,
   "id": "45d994c6-0e76-4c4e-a78e-750ff3bc44f9",
   "metadata": {},
   "outputs": [],
   "source": [
    "rec = np.load(\"loss_and_err.npz\")\n",
    "l2_err_rec = rec[\"l2_err_rec\"]\n",
    "loss_rec = rec[\"loss_rec\"]\n",
    "\n",
    "plt.semilogy(loss_rec[:-1])\n",
    "plt.title(\"loss\")\n",
    "plt.show()\n",
    "\n",
    "plt.semilogy(l2_err_rec[:-1])\n",
    "plt.title(\"error\")\n",
    "plt.show()"
   ]
  },
  {
   "cell_type": "code",
   "execution_count": null,
   "id": "5ceda1ac-af2f-42c8-8331-d93eef952416",
   "metadata": {},
   "outputs": [],
   "source": [
    "print(\"Hello World?\")"
   ]
  }
 ],
 "metadata": {
  "kernelspec": {
   "display_name": "torch_gpu",
   "language": "python",
   "name": "torch_gpu"
  },
  "language_info": {
   "codemirror_mode": {
    "name": "ipython",
    "version": 3
   },
   "file_extension": ".py",
   "mimetype": "text/x-python",
   "name": "python",
   "nbconvert_exporter": "python",
   "pygments_lexer": "ipython3",
   "version": "3.9.17"
  }
 },
 "nbformat": 4,
 "nbformat_minor": 5
}
