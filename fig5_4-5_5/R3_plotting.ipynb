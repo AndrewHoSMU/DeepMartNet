{
 "cells": [
  {
   "cell_type": "markdown",
   "id": "08004618-1124-41f3-bedf-9a8636ed08cd",
   "metadata": {},
   "source": [
    "# Plotting for Review 3"
   ]
  },
  {
   "cell_type": "code",
   "execution_count": 1,
   "id": "deccec61-94cc-4cb5-b131-a38dea6b7eaa",
   "metadata": {},
   "outputs": [
    {
     "data": {
      "text/plain": [
       "<torch._C.Generator at 0x15550ca418b0>"
      ]
     },
     "execution_count": 1,
     "metadata": {},
     "output_type": "execute_result"
    }
   ],
   "source": [
    "import numpy as np\n",
    "import matplotlib.pyplot as plt\n",
    "import torch\n",
    "from torch import nn, vmap\n",
    "from time import time\n",
    "\n",
    "import math, os, sys\n",
    "torch.manual_seed(0)"
   ]
  },
  {
   "cell_type": "code",
   "execution_count": 2,
   "id": "056775bb-8d33-4049-b10d-b893042a9073",
   "metadata": {},
   "outputs": [],
   "source": [
    "# dimension\n",
    "D = 20\n",
    "\n",
    "# domain width\n",
    "L = 1.0"
   ]
  },
  {
   "cell_type": "code",
   "execution_count": 3,
   "id": "e23fd970-7539-496c-b312-715ba0f4434c",
   "metadata": {},
   "outputs": [],
   "source": [
    "# rhs\n",
    "\n",
    "om = 2.\n",
    "\n",
    "c = -1.\n",
    "\n",
    "\n",
    "def f(x):\n",
    "    return (-om ** 2 + c) * (om * x).cos().sum()\n",
    "\n",
    "\n",
    "# boundary condition\n",
    "def g(x):\n",
    "    return (om * x).cos().sum()\n",
    "\n",
    "\n",
    "def u_true(x):\n",
    "    return (om * x).cos().sum()"
   ]
  },
  {
   "cell_type": "code",
   "execution_count": 4,
   "id": "511b9e65-811b-46ff-8f83-63cbe23d4968",
   "metadata": {},
   "outputs": [],
   "source": [
    "# path simulation time\n",
    "T = 6. / np.sqrt(D)\n",
    "\n",
    "# Total umber of paths\n",
    "M_tot = 100000\n",
    "\n",
    "# Batch size of each epoch\n",
    "M = 1000\n",
    "\n",
    "# number of grid points\n",
    "N = 100\n",
    "\n",
    "# number of grid points at the boundaries\n",
    "N_bdry = 10000\n",
    "\n",
    "# weight of boundary loss\n",
    "c_boundary = 1.0\n",
    "\n",
    "# number of collocation points for evaluating the integral\n",
    "N_test = 10000\n",
    "\n",
    "# number of training epochs\n",
    "n_epoch = 5000"
   ]
  },
  {
   "cell_type": "code",
   "execution_count": 5,
   "id": "d87bd8d1-ef52-44c7-b5f5-94d628d83fb0",
   "metadata": {},
   "outputs": [],
   "source": [
    "# time step size\n",
    "dt = T / N\n",
    "dBt = math.sqrt(dt)\n",
    "\n",
    "def sample_NDstdBM_paths(M: int, D: int, T: float, N: int):\n",
    "    return torch.cumsum(\n",
    "        torch.concat([\n",
    "            torch.concat([torch.ones(M, 1, 1), torch.zeros(M, 1, D - 1)], dim=2) * 0.1,\n",
    "            torch.randn(M, N, D) * math.sqrt(T / N)\n",
    "        ], dim=1), dim=1\n",
    "    )\n",
    "\n",
    "\n",
    "W_tot = sample_NDstdBM_paths(M_tot, D, T, N)"
   ]
  },
  {
   "cell_type": "code",
   "execution_count": 6,
   "id": "0852532b-3415-4ece-b318-14527fa07cdb",
   "metadata": {},
   "outputs": [
    {
     "name": "stdout",
     "output_type": "stream",
     "text": [
      "Boundary unreached rate: 0.00%\n"
     ]
    }
   ],
   "source": [
    "def mask_NDstdBM_paths(paths, L: float):\n",
    "    oob = paths.abs().max(dim=2)[0].le(L).double()\n",
    "    return oob.cummin(dim=1).values, oob.argmin(dim=1)\n",
    "\n",
    "\n",
    "mask, exit_idx = mask_NDstdBM_paths(W_tot, L)\n",
    "print(f\"Boundary unreached rate: {mask[:, -1].sum().item() / M_tot * 100:.2f}%\")"
   ]
  },
  {
   "cell_type": "code",
   "execution_count": 7,
   "id": "f95f1f24-ac72-43ca-bdd0-715ba7107c26",
   "metadata": {},
   "outputs": [],
   "source": [
    "def sample_boundary_points(N_bdry: int, D: int, L: float):\n",
    "    rand_u = torch.rand(N_bdry, D) - 0.5\n",
    "    return rand_u / rand_u.abs().max(dim=1)[0].unsqueeze(dim=1) * L\n",
    "\n",
    "\n",
    "X_bdry = sample_boundary_points(N_bdry, D, L)"
   ]
  },
  {
   "cell_type": "code",
   "execution_count": 8,
   "id": "b61c5e48-dec5-4739-a6ac-18922e9bd8a8",
   "metadata": {},
   "outputs": [],
   "source": [
    "u = nn.Sequential(nn.Linear(D, 64),\n",
    "                  nn.Tanh(), # nn.GELU(approximate=\"tanh\"),\n",
    "                  nn.Linear(64, 32),\n",
    "                  nn.GELU(approximate=\"tanh\"),\n",
    "                  nn.Linear(32, 1))\n",
    "\n",
    "X_test = torch.rand(N_test, D) * 2 * L - L\n",
    "\n",
    "optimizer = torch.optim.Adamax(u.parameters(), lr=.05, )\n",
    "\n",
    "loss_rec = np.zeros(n_epoch + 1)\n",
    "l2_err_rec = np.zeros(n_epoch + 1)\n",
    "l2_norm_rec = np.zeros(n_epoch + 1)\n",
    "\n",
    "f_val_tot = vmap(vmap(f))(W_tot)\n",
    "g_val = vmap(g)(X_bdry)"
   ]
  },
  {
   "cell_type": "code",
   "execution_count": 9,
   "id": "a07fb290-d4fd-46f2-a0fe-fc5cd88f9f21",
   "metadata": {},
   "outputs": [
    {
     "data": {
      "text/plain": [
       "20.12824205076825"
      ]
     },
     "execution_count": 9,
     "metadata": {},
     "output_type": "execute_result"
    }
   ],
   "source": [
    "# starting point\n",
    "init1 = torch.zeros(D)\n",
    "init1[0] = 0.1\n",
    "\n",
    "# get u0 by Feynman-Kac formula\n",
    "u0 = (vmap(g)(torch.stack([W_tot[i, exit_idx[i], :] for i in range(M_tot)])) * (c * exit_idx * dt / 2).exp() - .5 * \\\n",
    "     (f_val_tot * (torch.linspace(0, T, N+1) * c / 2).exp() * mask).sum(dim=1).mul(dt)).mean()\n",
    "u0.item()"
   ]
  },
  {
   "cell_type": "code",
   "execution_count": 10,
   "id": "66c8b7c3-cdc8-4b29-8924-3f48ea998d33",
   "metadata": {},
   "outputs": [
    {
     "data": {
      "text/plain": [
       "'\\nx_test = torch.linspace(-L, L, 100).unsqueeze(dim=1) * torch.ones(D)\\nu_test = u(x_test)\\nu_test_true = vmap(u_true)(x_test)\\nplt.plot(np.linspace(-L, L, 100).unsqueeze(dim=1) * , u_test.detach().numpy().flatten())\\nplt.plot(np.linspace(-L, L, 100), u_test_true.detach().numpy().flatten())\\nplt.show()\\n'"
      ]
     },
     "execution_count": 10,
     "metadata": {},
     "output_type": "execute_result"
    }
   ],
   "source": [
    "\"\"\"\n",
    "x_test = torch.linspace(-L, L, 100).unsqueeze(dim=1) * torch.ones(D)\n",
    "u_test = u(x_test)\n",
    "u_test_true = vmap(u_true)(x_test)\n",
    "plt.plot(np.linspace(-L, L, 100).unsqueeze(dim=1) * , u_test.detach().numpy().flatten())\n",
    "plt.plot(np.linspace(-L, L, 100), u_test_true.detach().numpy().flatten())\n",
    "plt.show()\n",
    "\"\"\""
   ]
  },
  {
   "cell_type": "markdown",
   "id": "f7d0f50a-5625-4201-878c-f2d9dd517b4a",
   "metadata": {},
   "source": [
    "# Plotting"
   ]
  },
  {
   "cell_type": "code",
   "execution_count": 31,
   "id": "6f1e3697-9557-46d5-beb6-41c31e417d3a",
   "metadata": {},
   "outputs": [
    {
     "data": {
      "image/png": "[encoded data removed]",
      "text/plain": [
       "<Figure size 640x480 with 1 Axes>"
      ]
     },
     "metadata": {},
     "output_type": "display_data"
    }
   ],
   "source": [
    "import numpy as np\n",
    "import matplotlib.pyplot as plt\n",
    "import torch\n",
    "from torch import nn, vmap\n",
    "from time import time\n",
    "\n",
    "import math, os, sys\n",
    "torch.manual_seed(0)\n",
    "\n",
    "u.load_state_dict(torch.load(\"the_network_07.pt\"))\n",
    "\n",
    "\n",
    "x_test = torch.linspace(-L, L, 200).unsqueeze(dim=1) * torch.ones(D)\n",
    "\n",
    "plt.plot(np.linspace(-np.sqrt(D) * L, np.sqrt(D) * L, 200), vmap(u_true)(x_test).detach().numpy(), \"b\", alpha=0.6)\n",
    "\n",
    "plt.plot(np.linspace(-np.sqrt(D) * L, np.sqrt(D) * L, 200)[::4], u(x_test).squeeze().detach().numpy()[::4], \"rx\")\n",
    "\n",
    "u.load_state_dict(torch.load(\"old_with_FKloss/the_network_07.pt\"))\n",
    "plt.plot(np.linspace(-np.sqrt(D) * L, np.sqrt(D) * L, 200)[::4], u(x_test).squeeze().detach().numpy()[::4], \"g+\")\n",
    "\n",
    "\n",
    "plt.ylim(-9, 22)\n",
    "plt.legend([\"True Solution\", \"Learned Solution (without FK loss)\", \"Learned Solution\", ])\n",
    "plt.savefig(\"20d_diag.png\")\n",
    "plt.show()"
   ]
  },
  {
   "cell_type": "markdown",
   "id": "f963d732-aa76-47b1-a4f1-ba00fa6bd122",
   "metadata": {},
   "source": [
    "$$\n",
    "u(x \\mathbf{e}), x \\in [-L, L]\n",
    "$$\n",
    "where\n",
    "$$\n",
    "\\mathbf{e} = \\frac{1}{\\sqrt{D}} (1, 1, \\cdots, 1)\n",
    "$$"
   ]
  },
  {
   "cell_type": "code",
   "execution_count": 32,
   "id": "b4884122-d15d-4259-aa62-1189e803342b",
   "metadata": {},
   "outputs": [
    {
     "data": {
      "image/png": "[encoded data removed]",
      "text/plain": [
       "<Figure size 640x480 with 1 Axes>"
      ]
     },
     "metadata": {},
     "output_type": "display_data"
    }
   ],
   "source": [
    "u.load_state_dict(torch.load(\"the_network_07.pt\"))\n",
    "x_test = torch.linspace(-1, 1, 100).unsqueeze(dim=1) * (torch.tensor([0.] * (D-1) + [1.]))\n",
    "plt.plot(np.linspace(-L, L, 100), vmap(u_true)(x_test).detach().numpy(), \"b\", alpha=0.6)\n",
    "plt.plot(np.linspace(-L, L, 100)[::4], u(x_test).squeeze().detach().numpy()[::4], \"r+\")\n",
    "\n",
    "u.load_state_dict(torch.load(\"old_with_FKloss/the_network_07.pt\"))\n",
    "plt.plot(np.linspace(-L, L, 100)[::4], u(x_test).squeeze().detach().numpy()[::4], \"gx\")\n",
    "\n",
    "\n",
    "plt.ylim(-9, 22)\n",
    "\n",
    "\n",
    "plt.legend([\"True Solution\", \"Learned Solution (without FK loss)\", \"Learned Solution\", ])\n",
    "plt.savefig(\"20d_axis.png\") \n",
    "plt.show()"
   ]
  },
  {
   "cell_type": "code",
   "execution_count": null,
   "id": "5c25a680-d8a1-4239-b701-f2fd35916742",
   "metadata": {
    "tags": []
   },
   "outputs": [],
   "source": []
  }
 ],
 "metadata": {
  "kernelspec": {
   "display_name": "Python 3 (ipykernel)",
   "language": "python",
   "name": "python3"
  },
  "language_info": {
   "codemirror_mode": {
    "name": "ipython",
    "version": 3
   },
   "file_extension": ".py",
   "mimetype": "text/x-python",
   "name": "python",
   "nbconvert_exporter": "python",
   "pygments_lexer": "ipython3",
   "version": "3.12.4"
  }
 },
 "nbformat": 4,
 "nbformat_minor": 5
}
